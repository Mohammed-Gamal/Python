{
  "cells": [
    {
      "cell_type": "markdown",
      "metadata": {
        "id": "8ai7yJhfUQoB"
      },
      "source": [
        "# **Python built-in map and filter functions**\n",
        "1. Use `map` when you want to perform an operation on every item in an iterable - `map(function, iterable)`\n",
        "2. Use `filter` when you need to pick specific items that meet a condition - `filter(function, iterable)`\n",
        "3. Use `sum` to add up all elements in an iterable and return their total - `sum(iterable, start=0)`\n",
        "4. Use `sorted` to sort elements in an iterable and *return a new sorted list* - `sorted(iterable, key=None, reverse=False)`\n",
        "5. Use `sort` to sort the elements of a **list** *in place*.\n",
        "  - Unlike `sorted`, `sort` can only be called on lists and does not work on other iterables, it also modifies the original list (in-place) rather than creating a new sorted list.\n",
        "6. Use `enumerate` to add a counter to an iterable, returning each item in the iterable along with its index - `enumerate(iterable, start=0)`\n",
        "7. Use `zip` to combine multiple iterables into an iterator of tuples, where each tuple contains one element from each iterable - `zip(*iterables)`\n"
      ]
    },
    {
      "cell_type": "markdown",
      "metadata": {
        "id": "DViWeUQQUmdp"
      },
      "source": [
        "## **1. `map` Function**\n",
        "* **Purpose:** Applies a given function to every item of an iterable (like a list, tuple, etc.) and returns an iterator of the results.\n",
        "* **Usage:** `map(function, iterable)`"
      ]
    },
    {
      "cell_type": "code",
      "execution_count": 2,
      "metadata": {
        "colab": {
          "base_uri": "https://localhost:8080/"
        },
        "id": "d3zsymhRU12t",
        "outputId": "958e14df-182f-44d0-8e3a-9cd8c634fd76"
      },
      "outputs": [
        {
          "name": "stdout",
          "output_type": "stream",
          "text": [
            "[2, 4, 6, 8]\n"
          ]
        }
      ],
      "source": [
        "# Example: Multiply each number in a list by 2.\n",
        "numbers = [1, 2, 3, 4]\n",
        "doubled = map(lambda x: x * 2, numbers)\n",
        "print(list(doubled))  # Output: [2, 4, 6, 8]"
      ]
    },
    {
      "cell_type": "code",
      "execution_count": 3,
      "metadata": {
        "colab": {
          "base_uri": "https://localhost:8080/"
        },
        "id": "Tql8mzgiUl61",
        "outputId": "92b66d22-081a-4778-acd5-0317275a8297"
      },
      "outputs": [
        {
          "name": "stdout",
          "output_type": "stream",
          "text": [
            "[2, 4, 6, 8]\n"
          ]
        }
      ],
      "source": [
        "# Example: Multiply each number in a list by 2.\n",
        "def double(x):\n",
        "  return x * 2\n",
        "\n",
        "numbers = [1, 2, 3, 4]\n",
        "doubled = map(double, numbers)\n",
        "print(list(doubled))  # Output: [2, 4, 6, 8]"
      ]
    },
    {
      "cell_type": "markdown",
      "metadata": {
        "id": "40GF8gDjVJ8y"
      },
      "source": [
        "## **2. `filter` Function**\n",
        "* **Purpose:** Filters elements in an iterable based on whether they satisfy a given condition, which is defined by a function that returns True or False.\n",
        "* **Usage:** `filter(function, iterable)`\n"
      ]
    },
    {
      "cell_type": "code",
      "execution_count": null,
      "metadata": {
        "id": "LS1GSXIAV9u1"
      },
      "outputs": [],
      "source": []
    },
    {
      "cell_type": "code",
      "execution_count": 1,
      "metadata": {
        "colab": {
          "base_uri": "https://localhost:8080/"
        },
        "id": "1rBjbD_xVQQ5",
        "outputId": "2b7b1056-1cdf-4e08-cbe3-29914b69cb55"
      },
      "outputs": [
        {
          "name": "stdout",
          "output_type": "stream",
          "text": [
            "[2, 4]\n"
          ]
        }
      ],
      "source": [
        "# Example: Keep only even numbers in a list.\n",
        "numbers = [1, 2, 3, 4]\n",
        "evens = filter(lambda x: x % 2 == 0, numbers)\n",
        "print(list(evens))  # Output: [2, 4]"
      ]
    },
    {
      "cell_type": "code",
      "execution_count": 5,
      "metadata": {
        "colab": {
          "base_uri": "https://localhost:8080/"
        },
        "id": "a-Za0qEOVh5p",
        "outputId": "34feb97f-6a2a-4a27-ce6c-1b847db2a03d"
      },
      "outputs": [
        {
          "name": "stdout",
          "output_type": "stream",
          "text": [
            "[2, 4]\n"
          ]
        }
      ],
      "source": [
        "# Example: Keep only even numbers in a list.\n",
        "def is_even(x):\n",
        "  return x % 2 == 0\n",
        "\n",
        "numbers = [1, 2, 3, 4]\n",
        "evens = filter(is_even, numbers)\n",
        "print(list(evens))  # Output: [2, 4]"
      ]
    },
    {
      "cell_type": "markdown",
      "metadata": {
        "id": "NZHl7HLcV7_F"
      },
      "source": [
        "## **3. `sum` Function**\n",
        "* **Purpose:** Adds all elements in an iterable and returns the total.\n",
        "* **Usage:** `sum(iterable, start=0)`\n",
        "  - start (optional)"
      ]
    },
    {
      "cell_type": "code",
      "execution_count": 6,
      "metadata": {
        "colab": {
          "base_uri": "https://localhost:8080/"
        },
        "id": "W3rPkxAnWZaf",
        "outputId": "47314f4b-8568-42cb-fef4-4fc257f01396"
      },
      "outputs": [
        {
          "name": "stdout",
          "output_type": "stream",
          "text": [
            "10.5\n"
          ]
        }
      ],
      "source": [
        "# Example Sum of a list of numbers:\n",
        "numbers = [1, 2.5, 3, 4]\n",
        "total = sum(numbers)\n",
        "print(total)  # Output: 10.5"
      ]
    },
    {
      "cell_type": "code",
      "execution_count": 7,
      "metadata": {
        "colab": {
          "base_uri": "https://localhost:8080/"
        },
        "id": "s6nFT1yvVnl-",
        "outputId": "4f76c3fc-ed90-4bab-94be-85b9068f0f32"
      },
      "outputs": [
        {
          "name": "stdout",
          "output_type": "stream",
          "text": [
            "20.5\n"
          ]
        }
      ],
      "source": [
        "# Example Sum of a list of numbers:\n",
        "numbers = [1, 2.5, 3, 4]\n",
        "total = sum(numbers, start=10)\n",
        "print(total)  # Output: 10 + 10.5 = 20.5"
      ]
    },
    {
      "cell_type": "code",
      "execution_count": 8,
      "metadata": {
        "colab": {
          "base_uri": "https://localhost:8080/"
        },
        "id": "K50KYOvWWnuH",
        "outputId": "2635e411-f00d-4007-b283-25bb4610c394"
      },
      "outputs": [
        {
          "name": "stdout",
          "output_type": "stream",
          "text": [
            "12\n"
          ]
        }
      ],
      "source": [
        "# Combining map, filter, and sum to sum only the doubled values of even numbers in a list\n",
        "numbers = [1, 2, 3, 4, 5]\n",
        "result = sum(map(lambda x: x * 2, filter(lambda x: x % 2 == 0, numbers)))\n",
        "print(result)  # Output: 12 (since only 2 and 4 are doubled and added: 2*2 + 4*2)"
      ]
    },
    {
      "cell_type": "markdown",
      "metadata": {
        "id": "9BOmfhBHXcws"
      },
      "source": [
        "## **4. `sorted` Function**\n",
        "* **Purpose:** Sorts elements in an iterable in ascending or descending order.\n",
        "* **Usage:** `sorted(iterable, key=None, reverse=False)`\n",
        "  - `key (optional):` A function that serves as a key for sorting, allowing custom sorting criteria.\n",
        "  - `reverse (optional):` If True, sorts in descending order; by default, it sorts in ascending order (False)."
      ]
    },
    {
      "cell_type": "code",
      "execution_count": 9,
      "metadata": {
        "colab": {
          "base_uri": "https://localhost:8080/"
        },
        "id": "RLofOZetYPrG",
        "outputId": "91723198-de5d-4870-8cd0-3b8c32fa71fb"
      },
      "outputs": [
        {
          "name": "stdout",
          "output_type": "stream",
          "text": [
            "[1, 2, 5, 9]\n"
          ]
        }
      ],
      "source": [
        "# Example: Sorting a list of numbers in ascending order\n",
        "numbers = [5, 2, 9, 1]\n",
        "sorted_numbers = sorted(numbers)\n",
        "print(sorted_numbers)  # Output: [1, 2, 5, 9]"
      ]
    },
    {
      "cell_type": "code",
      "execution_count": 10,
      "metadata": {
        "colab": {
          "base_uri": "https://localhost:8080/"
        },
        "id": "u86vv_PpZGtE",
        "outputId": "8d720c83-7bfa-4982-c60e-5897b3ac7d25"
      },
      "outputs": [
        {
          "name": "stdout",
          "output_type": "stream",
          "text": [
            "[9, 5, 2, 1]\n"
          ]
        }
      ],
      "source": [
        "# Example: Sorting in Descending Order (reverse=True)\n",
        "numbers = [5, 2, 9, 1]\n",
        "sorted_numbers = sorted(numbers, reverse=True)\n",
        "print(sorted_numbers)  # Output: [9, 5, 2, 1]"
      ]
    },
    {
      "cell_type": "code",
      "execution_count": 14,
      "metadata": {
        "colab": {
          "base_uri": "https://localhost:8080/"
        },
        "id": "ozOqQ5qPW-Vt",
        "outputId": "fb970769-ef06-4942-fe19-7e8705fa2e7a"
      },
      "outputs": [
        {
          "name": "stdout",
          "output_type": "stream",
          "text": [
            "[{'name': 'Mona', 'age': 19}, {'name': 'Mohamed', 'age': 27}, {'name': 'Ali', 'age': 34}]\n"
          ]
        }
      ],
      "source": [
        "# Example: Sorting with a Custom Key (in this case 'by age')\n",
        "users = [\n",
        "    {'name': 'Mohamed', 'age': 27},\n",
        "    {'name': 'Ali', 'age': 34},\n",
        "    {'name': 'Mona', 'age': 19}\n",
        "]\n",
        "sorted_words = sorted(users, key=lambda user: user['age'])\n",
        "print(sorted_words)"
      ]
    },
    {
      "cell_type": "markdown",
      "metadata": {
        "id": "JCQIX-5ObFOf"
      },
      "source": [
        "## **5. `sort` Function**\n",
        "* **Purpose:** Sorts elements in an iterable in ascending or descending order.\n",
        "* **Usage:** `list.sort(key=None, reverse=False)`\n",
        "  - `key (optional):` A function that serves as a key for sorting, allowing custom sorting criteria.\n",
        "  - `reverse (optional):` If True, sorts in descending order; by default, it sorts in ascending order (False)."
      ]
    },
    {
      "cell_type": "code",
      "execution_count": 17,
      "metadata": {
        "colab": {
          "base_uri": "https://localhost:8080/"
        },
        "id": "iieIlMSzZRln",
        "outputId": "d09af4b6-47b2-4865-b5bf-9e6aaa244eaa"
      },
      "outputs": [
        {
          "name": "stdout",
          "output_type": "stream",
          "text": [
            "[1, 2, 5, 9]\n"
          ]
        }
      ],
      "source": [
        "# Example: Sorting a list of numbers\n",
        "numbers = [5, 2, 9, 1]\n",
        "numbers.sort()  # in-place\n",
        "print(numbers)  # Output: [1, 2, 5, 9]"
      ]
    },
    {
      "cell_type": "markdown",
      "metadata": {
        "id": "UKf6qY1Qcgco"
      },
      "source": [
        "## **6. `enumerate` Function**\n",
        "* **Purpose:** Adds an index (counter) to each item in an iterable, which is helpful when you need to access both the index and the item at the same time.\n",
        "* **Usage:** `enumerate(iterable, start=0)`\n",
        "  - `start (optional):` The starting value for the counter (default is 0).\n"
      ]
    },
    {
      "cell_type": "code",
      "execution_count": 21,
      "metadata": {
        "colab": {
          "base_uri": "https://localhost:8080/"
        },
        "id": "lqzr8V8qdU_R",
        "outputId": "adb594eb-ab38-46c4-d998-eb15a1704597"
      },
      "outputs": [
        {
          "name": "stdout",
          "output_type": "stream",
          "text": [
            "[(0, 'Task 1'), (1, 'Task 2'), (2, 'Task 3')]\n"
          ]
        }
      ],
      "source": [
        "tasks = ['Task 1', 'Task 2', 'Task 3']\n",
        "indexed_tasks = list(enumerate(tasks))\n",
        "print(indexed_tasks)"
      ]
    },
    {
      "cell_type": "code",
      "execution_count": 20,
      "metadata": {
        "colab": {
          "base_uri": "https://localhost:8080/"
        },
        "id": "xzTAUIqwb-86",
        "outputId": "8d10f76a-6811-4647-bc11-a3a4a2792397"
      },
      "outputs": [
        {
          "name": "stdout",
          "output_type": "stream",
          "text": [
            "1. Task 1\n",
            "2. Task 2\n",
            "3. Task 3\n"
          ]
        }
      ],
      "source": [
        "tasks = ['Task 1', 'Task 2', 'Task 3']\n",
        "for index, task in enumerate(tasks):\n",
        "    print(f\"{index + 1}. {task}\")"
      ]
    },
    {
      "cell_type": "markdown",
      "metadata": {
        "id": "9WejtL7iend7"
      },
      "source": [
        "## **7. `zip` Function**\n",
        "* **Purpose:** Combines elements from multiple iterables, pairing them together element by element.\n",
        "* **Usage:** `zip(*iterables)`\n",
        "  - Each iterable passed to `zip` is combined into *tuples*, with each tuple containing one element from each iterable."
      ]
    },
    {
      "cell_type": "code",
      "execution_count": 23,
      "metadata": {
        "colab": {
          "base_uri": "https://localhost:8080/"
        },
        "id": "wHHomIlTdJQG",
        "outputId": "66b6d60f-a3a0-468c-ff32-02fb7e50e16c"
      },
      "outputs": [
        {
          "name": "stdout",
          "output_type": "stream",
          "text": [
            "[('Mohamed', 27), ('Ali', 34), ('Mona', 19)]\n"
          ]
        }
      ],
      "source": [
        "# Example: Combining two lists into pairs\n",
        "names = [ 'Mohamed', 'Ali', 'Mona' ]\n",
        "ages = [ 27, 34, 19 ]\n",
        "\n",
        "users = list(zip(names, ages))\n",
        "print(users)"
      ]
    },
    {
      "cell_type": "code",
      "execution_count": 24,
      "metadata": {
        "colab": {
          "base_uri": "https://localhost:8080/"
        },
        "id": "UmfyaBFjfE5l",
        "outputId": "b97e6838-b6dc-4f0b-a96c-026c9233361c"
      },
      "outputs": [
        {
          "name": "stdout",
          "output_type": "stream",
          "text": [
            "[('Mohamed', 27), ('Ali', 34), ('Mona', 19)]\n"
          ]
        }
      ],
      "source": [
        "# Example: Unequal Lengths of Iterables\n",
        "names = [ 'Mohamed', 'Ali', 'Mona', 'Hassan' ]\n",
        "ages = [ 27, 34, 19 ]\n",
        "\n",
        "users = list(zip(names, ages))\n",
        "print(users)"
      ]
    },
    {
      "cell_type": "code",
      "execution_count": 30,
      "metadata": {
        "colab": {
          "base_uri": "https://localhost:8080/"
        },
        "id": "tiAH0f5yfPHp",
        "outputId": "bb7f1176-758c-4c17-9ed0-f3239350e528"
      },
      "outputs": [
        {
          "name": "stdout",
          "output_type": "stream",
          "text": [
            "[('Mohamed', 27, 'Male'), ('Ali', 34, 'Male'), ('Mona', 19, 'Female')]\n",
            "Mohamed is 27 years old and is Male.\n",
            "Ali is 34 years old and is Male.\n",
            "Mona is 19 years old and is Female.\n"
          ]
        }
      ],
      "source": [
        "# Example: Multiple Iterables\n",
        "names = [ 'Mohamed', 'Ali', 'Mona' ]\n",
        "ages = [ 27, 34, 19 ]\n",
        "gender = [\"Male\", \"Male\", \"Female\"]\n",
        "\n",
        "combined = list(zip(names, ages, gender))\n",
        "print(combined)\n",
        "\n",
        "for name, age, gender in combined:\n",
        "  print(f\"{name} is {age} years old and is {gender}.\")"
      ]
    },
    {
      "cell_type": "code",
      "execution_count": 31,
      "metadata": {
        "colab": {
          "base_uri": "https://localhost:8080/"
        },
        "id": "CeYubNFBfmJt",
        "outputId": "27cbf027-a294-4cfe-a7c4-2a1433f259ec"
      },
      "outputs": [
        {
          "name": "stdout",
          "output_type": "stream",
          "text": [
            "('Mohamed', 'Ali', 'Mona')\n",
            "(27, 34, 19)\n"
          ]
        }
      ],
      "source": [
        "# Example: Unzipping\n",
        "users = [('Mohamed', 27), ('Ali', 34), ('Mona', 19)]\n",
        "\n",
        "names, ages = zip(*users)\n",
        "print(names)\n",
        "print(ages)"
      ]
    }
  ],
  "metadata": {
    "colab": {
      "provenance": []
    },
    "kernelspec": {
      "display_name": "Python 3",
      "name": "python3"
    },
    "language_info": {
      "name": "python"
    }
  },
  "nbformat": 4,
  "nbformat_minor": 0
}
