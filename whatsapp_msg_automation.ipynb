{
 "cells": [
  {
   "cell_type": "markdown",
   "metadata": {},
   "source": [
    "# WhatsApp Automation using [pywhatkit](https://github.com/Ankit404butfound/PyWhatKit)\n",
    "\n",
    "## Install pywhatkit:\n",
    "```bash\n",
    "pip install pywhatkit\n",
    "```\n",
    "\n",
    "**Note**: Ensure you are logged into WhatsApp Web on your browser by scanning the QR code before running the script."
   ]
  },
  {
   "cell_type": "markdown",
   "metadata": {},
   "source": [
    "--------------------------------"
   ]
  },
  {
   "cell_type": "markdown",
   "metadata": {},
   "source": [
    "## Sending WhatsApp Messages:\n",
    "\n",
    "1. **sendwhatmsg_instantly:**\n",
    "```python\n",
    "sendwhatmsg_instantly(phone_no: str, message: str, wait_time (sec): int = 15, tab_close: bool = False, close_time (sec): int = 3)\n",
    "```\n",
    "\n",
    "2. **sendwhatmsg:**\n",
    "```python\n",
    "sendwhatmsg(phone_no: str, message: str, time_hour: int, time_min: int, wait_time (sec): int = 15, tab_close: bool = False, close_time (sec): int = 3)\n",
    "```\n",
    "\n",
    "3. **sendwhatmsg_to_group:**\n",
    "```python\n",
    "sendwhatmsg_to_group(group_id: str, message: str, time_hour: int, time_min: int, wait_time (sec): int = 15, tab_close: bool = False, close_time (sec): int = 3)\n",
    "```\n",
    "\n",
    "4. **sendwhats_image:**\n",
    "```python\n",
    "sendwhats_image(receiver: str, img_path: str, caption: str = \"\", wait_time (sec): int = 15, tab_close: bool = False, close_time (sec): int = 3)\n",
    "```\n",
    "\n",
    "5. **sendwhats_image_to_group:**\n",
    "```python\n",
    "sendwhats_image_to_group(group_id: str, img_path: str, caption: str = \"\", wait_time (sec): int = 15, tab_close: bool = False, close_time (sec): int = 3)\n",
    "```"
   ]
  },
  {
   "cell_type": "markdown",
   "metadata": {},
   "source": [
    "### Key Notes:\n",
    "\n",
    "1. **Pre-requisite**: Make sure WhatsApp Web is logged in using your browser.\n",
    "2. **Time Parameters**: `time_hour` and `time_min` are in <u>24-hour format</u>.\n",
    "3. **wait_time**: The wait time before sending the message/image, <u>in seconds</u>.\n",
    "4. **tab_close**: Set to `True` if you want the tab to close automatically after sending the message.\n",
    "5. **close_time**: Number of <u>seconds</u> to wait before closing the tab."
   ]
  },
  {
   "cell_type": "markdown",
   "metadata": {},
   "source": [
    "--------------------------------"
   ]
  },
  {
   "cell_type": "markdown",
   "metadata": {},
   "source": [
    "## Code Implementation"
   ]
  },
  {
   "cell_type": "markdown",
   "metadata": {},
   "source": [
    "### Sending messages to individual contacts"
   ]
  },
  {
   "cell_type": "code",
   "execution_count": null,
   "metadata": {},
   "outputs": [
    {
     "name": "stdout",
     "output_type": "stream",
     "text": [
      "In 72497 Seconds WhatsApp will open and after 15 Seconds Message will be Delivered!\n"
     ]
    }
   ],
   "source": [
    "import pywhatkit\n",
    "\n",
    "phone_numbers = [\"+201151132047\"]\n",
    "\n",
    "for phone_number in phone_numbers:\n",
    "    # Send a message instantly\n",
    "    pywhatkit.sendwhatmsg_instantly(phone_number, \"Test Msg\", wait_time=10)\n",
    "\n",
    "    # Schedule a message at 7:20 AM\n",
    "    pywhatkit.sendwhatmsg(phone_number, \"Test Msg\", 7, 20)\n",
    "\n",
    "    # Schedule a message at 7:24 AM with auto tab close after 15 seconds\n",
    "    pywhatkit.sendwhatmsg(phone_number, \"Test Msg\", 7, 24, 15, True, 2)\n",
    "\n",
    "    # Send an image instantly\n",
    "    pywhatkit.sendwhats_image(phone_number, \"image.png\", \"Test Image\")\n",
    "\n",
    "    # Schedule an image to be sent at 7:25 AM\n",
    "    pywhatkit.sendwhats_image(phone_number, \"image.png\", \"Test Image\", wait_time=15)"
   ]
  },
  {
   "cell_type": "markdown",
   "metadata": {},
   "source": [
    "### Sending messages to WhatsApp Groups\n",
    "- Group IDs are found at the end of the group invitation link.\n",
    "- **Example:** In the link \"https://chat.whatsapp.com/GZL7qgmtmhY8FnagdVkzlm\", the group ID is \"GZL7qgmtmhY8FnagdVkzlm\"."
   ]
  },
  {
   "cell_type": "code",
   "execution_count": null,
   "metadata": {},
   "outputs": [],
   "source": [
    "group_ids = [\"GZL7qgmtmhY8FnagdVkzlm\"]\n",
    "\n",
    "for group_id in group_ids:\n",
    "    # Schedule a group message at 7:31 AM\n",
    "    pywhatkit.sendwhatmsg_to_group(group_id, \"Test Group Msg\", 7, 31)\n",
    "\n",
    "    # Schedule a group message at 7:35 AM with auto tab close\n",
    "    pywhatkit.sendwhatmsg_to_group(group_id, \"Test Group Msg\", 7, 35, 15, True, 2)\n",
    "\n",
    "    # Send an image to the group instantly\n",
    "    pywhatkit.sendwhats_image_to_group(group_id, \"image.png\", \"Test Group Image\")\n",
    "\n",
    "    # Schedule an image to the group at 7:36 AM\n",
    "    pywhatkit.sendwhats_image_to_group(group_id, \"image.png\", \"Test Group Image\", wait_time=15)"
   ]
  },
  {
   "cell_type": "markdown",
   "metadata": {},
   "source": [
    "By **Mohamed Gamal**"
   ]
  }
 ],
 "metadata": {
  "kernelspec": {
   "display_name": "Python 3 (ipykernel)",
   "language": "python",
   "name": "python3"
  },
  "language_info": {
   "codemirror_mode": {
    "name": "ipython",
    "version": 3
   },
   "file_extension": ".py",
   "mimetype": "text/x-python",
   "name": "python",
   "nbconvert_exporter": "python",
   "pygments_lexer": "ipython3",
   "version": "3.12.2"
  }
 },
 "nbformat": 4,
 "nbformat_minor": 4
}
