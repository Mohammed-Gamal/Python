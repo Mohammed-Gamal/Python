{
  "cells": [
    {
      "cell_type": "markdown",
      "metadata": {},
      "source": [
        "#### 1. `@staticmethod` decorators\n",
        "\n",
        "- **Purpose:** Used to define a method that does not depend on the instance or the class itself.\n",
        "- **Behavior:** A static method does not take a self or cls parameter. It’s just a regular function that happens to live inside a class for logical grouping.\n",
        "- **Use case:** Utility functions that logically belong to a class but don’t need access to any class or instance data."
      ]
    },
    {
      "cell_type": "code",
      "execution_count": 1,
      "metadata": {
        "colab": {
          "base_uri": "https://localhost:8080/"
        },
        "id": "AsTwrLEnckyb",
        "outputId": "6c24f129-ece4-4921-c899-b5883dc311b7"
      },
      "outputs": [
        {
          "name": "stdout",
          "output_type": "stream",
          "text": [
            "15\n",
            "0.5\n"
          ]
        }
      ],
      "source": [
        "# -----------------------------------\n",
        "# --- | staticmethod decorators | ---\n",
        "# -----------------------------------\n",
        "\n",
        "from typing import Any\n",
        "\n",
        "class Math:\n",
        "  @staticmethod\n",
        "  def add(x: Any, y: Any) -> Any:\n",
        "    return x + y\n",
        "\n",
        "  @staticmethod\n",
        "  def subtract(x: Any, y: Any) -> Any:\n",
        "    return x - y\n",
        "\n",
        "  @staticmethod\n",
        "  def multiply(x: Any, y: Any) -> Any:\n",
        "    return x * y\n",
        "\n",
        "\n",
        "  def divide(x: Any, y: Any) -> Any:\n",
        "    if y !=0:\n",
        "      return x / y\n",
        "    else:\n",
        "      raise ValueError(\"Cannot divide by zero\")\n",
        "\n",
        "\n",
        "print(Math.add(5, 10))\n",
        "print(Math.divide(5, 10))"
      ]
    },
    {
      "cell_type": "markdown",
      "metadata": {},
      "source": [
        "----------------------------------------------\n",
        "\n",
        "### 2. `@classmethod` decorators\n",
        "- **Purpose:** Defines a method that takes the class itself as the first argument (cls) rather than an instance.\n",
        "- **Behavior:** It can modify class-level attributes and is accessible from the class or any instance.\n",
        "- **Use case:** Factory methods that create instances of the class or methods that work with class-level data."
      ]
    },
    {
      "cell_type": "code",
      "execution_count": 2,
      "metadata": {
        "colab": {
          "base_uri": "https://localhost:8080/"
        },
        "id": "rfV_zTU5moZ-",
        "outputId": "46dcfde8-919f-4613-f606-2672853263c8"
      },
      "outputs": [
        {
          "name": "stdout",
          "output_type": "stream",
          "text": [
            "Mohamed 23\n",
            "Male\n",
            "<class '__main__.Person'>\n",
            "Male\n"
          ]
        }
      ],
      "source": [
        "# ----------------------------------\n",
        "# --- | classmethod decorators | ---\n",
        "# ----------------------------------\n",
        "\n",
        "class Person:\n",
        "  gender = \"Male\"\n",
        "\n",
        "  def __init__(self, name: str, age: int) -> None:\n",
        "    self.name = name\n",
        "    self.age = age\n",
        "\n",
        "  @classmethod\n",
        "  def get_gender(cls):\n",
        "    print(cls)\n",
        "    return cls.gender\n",
        "\n",
        "\n",
        "p1 = Person(\"Mohamed\", 23)\n",
        "print(p1.name, p1.age)  # Object-related\n",
        "# print(Person.age)  # Error\n",
        "print(Person.gender)\n",
        "print(Person.get_gender())"
      ]
    },
    {
      "cell_type": "markdown",
      "metadata": {},
      "source": [
        "----------------------------------------------\n",
        "\n",
        "### 3. `@property` decorators\n",
        "\n",
        "- **Purpose:** Turns a method into a *“getter”* for an attribute, allowing you to access it as if it were a regular attribute.\n",
        "- **Behavior:** Allows for defining a method that can be accessed like an attribute (no parentheses needed).\n",
        "- **Use case:** When you want controlled access to an attribute, such as adding validation or computing values on-the-fly."
      ]
    },
    {
      "cell_type": "code",
      "execution_count": 3,
      "metadata": {
        "id": "NB5xq_XwnjNQ"
      },
      "outputs": [],
      "source": [
        "# -------------------------------\n",
        "# --- | property decorators | ---\n",
        "# -------------------------------\n",
        "\n",
        "class Rectangle:\n",
        "  def __init__(self, length, width) -> None:\n",
        "    self._length = length\n",
        "    self._width = width\n",
        "\n",
        "  @property\n",
        "  def length(self):\n",
        "    return self._length\n",
        "\n",
        "  @length.setter\n",
        "  def length(self, value):\n",
        "    if value < 0:\n",
        "      raise ValueError(\"Length cannot be negative.\")\n",
        "    self._length = value\n",
        "\n",
        "  @length.deleter\n",
        "  def length(self):\n",
        "    print(\"Deleteing length...\")\n",
        "    del self._length\n",
        "\n",
        "  @property\n",
        "  def width(self):\n",
        "    return self._width\n",
        "\n",
        "  @width.setter\n",
        "  def width(self, value):\n",
        "    if value < 0:\n",
        "      raise ValueError(\"Width cannot be negative.\")\n",
        "    self._width = value\n",
        "\n",
        "  @width.deleter\n",
        "  def width(self):\n",
        "    print(\"Deleteing width...\")\n",
        "    del self._width\n",
        "\n",
        "  def area(self) -> int:\n",
        "    return self.length * self.width"
      ]
    },
    {
      "cell_type": "code",
      "execution_count": 4,
      "metadata": {
        "colab": {
          "base_uri": "https://localhost:8080/"
        },
        "id": "WJzyTDw2qWTu",
        "outputId": "d5fcf8e1-9288-4624-b4f3-45ba4aa80f11"
      },
      "outputs": [
        {
          "name": "stdout",
          "output_type": "stream",
          "text": [
            "r1 --> Length: 10, Width: 5\n",
            "r1 --> New Length: 20, New Width: 10\n",
            "Deleteing length...\n",
            "r2 --> Length: 3, Width: 1.5\n"
          ]
        }
      ],
      "source": [
        "r1 = Rectangle(10, 5)\n",
        "print(f\"r1 --> Length: {r1.length}, Width: {r1.width}\")\n",
        "\n",
        "r1.length = 20\n",
        "r1.width = 10\n",
        "\n",
        "print(f\"r1 --> New Length: {r1.length}, New Width: {r1.width}\")\n",
        "\n",
        "del r1.length\n",
        "\n",
        "r2 = Rectangle(3, 1.5)\n",
        "print(f\"r2 --> Length: {r2.length}, Width: {r2.width}\")"
      ]
    },
    {
      "cell_type": "markdown",
      "metadata": {},
      "source": [
        "----------------------------------------------\n",
        "### 4. `@dataclass` decorators\n",
        "- **Purpose:** Automates the creation of init, repr, and other special methods in classes.\n",
        "- **Behavior:** A data class auto-generates methods like `__init__`, `__repr__`, and `__eq__`, making it easy to create classes meant for storing data.\n",
        "- **Use case:** Classes mainly used to hold data with minimal behavior, like configuration objects or data records.\n"
      ]
    },
    {
      "cell_type": "code",
      "execution_count": 5,
      "metadata": {
        "colab": {
          "base_uri": "https://localhost:8080/"
        },
        "id": "Kw-MawmurCKM",
        "outputId": "7f8ad380-850b-4c95-d76e-2d5b1bfa22b9"
      },
      "outputs": [
        {
          "name": "stdout",
          "output_type": "stream",
          "text": [
            "Person(name='Ahmed', age=19, gender='Male')\n",
            "True\n"
          ]
        }
      ],
      "source": [
        "# --------------------------------\n",
        "# --- | dataclass decorators | ---\n",
        "# --------------------------------\n",
        "\n",
        "from dataclasses import dataclass\n",
        "\n",
        "@dataclass\n",
        "class Person:\n",
        "  name: str\n",
        "  age: int\n",
        "  gender: str\n",
        "\n",
        "  def get_older(self, years: int) -> None:\n",
        "    age += years\n",
        "\n",
        "\n",
        "p1 = Person(\"Ahmed\", 19, \"Male\")\n",
        "p2 = Person(\"Ahmed\", 19, \"Male\")\n",
        "p3 = Person(\"Mona\", 27, \"Femal\")\n",
        "\n",
        "print(p1)\n",
        "print(p1 == p2)"
      ]
    },
    {
      "cell_type": "markdown",
      "metadata": {},
      "source": [
        "#### `InitVar`\n",
        "\n",
        "- **Purpose:** Allows passing parameters to the `__post_init__` method in a data class without making them instance attributes.\n",
        "    - The `__post_init__` method in Python's dataclass is a special method that gets called automatically right after the data class's `__init__` method finishes executing.\n",
        "\n",
        "    - It provides an additional initialization step for any custom setup or validation logic you want to perform, allowing you to modify attributes or compute values based on the parameters given to the `__init__` method.\n",
        "\n",
        "- **Behavior:** Variables declared with `InitVar` are *not stored in the instance as regular attributes*. Instead, they are only available in the `__post_init__` method, which is a special method in data classes for further initialization after `__init__` runs.\n",
        "\n",
        "- **Use case:** When you need additional inputs for initialization or validation but don’t want them to be part of the instance state."
      ]
    },
    {
      "cell_type": "code",
      "execution_count": 7,
      "metadata": {},
      "outputs": [
        {
          "name": "stdout",
          "output_type": "stream",
          "text": [
            "Product(name='Laptop', price=900.0)\n"
          ]
        }
      ],
      "source": [
        "from dataclasses import dataclass, InitVar\n",
        "\n",
        "@dataclass\n",
        "class Product:\n",
        "    name: str\n",
        "    price: float\n",
        "    discount: InitVar[float]  # Only used during initialization, not stored in the instance\n",
        "\n",
        "    def __post_init__(self, discount):\n",
        "        self.price -= self.price * (discount / 100)  # Apply discount\n",
        "\n",
        "\n",
        "# Using the Product class\n",
        "product = Product(name=\"Laptop\", price=1000, discount=10)\n",
        "print(product)  # Output: Product(name='Laptop', price=900.0)\n"
      ]
    },
    {
      "cell_type": "markdown",
      "metadata": {},
      "source": [
        "#### `ClassVar`\n",
        "\n",
        "**Purpose:** Indicates that a variable is a class-level variable, not an instance variable.\n",
        "\n",
        "**Behavior:** Variables marked with ClassVar do not appear in the data class's `__init__` method and are not considered part of the instance state.\n",
        "\n",
        "**Use case:** Useful for defining constants or class-level configurations that should not vary between instances."
      ]
    },
    {
      "cell_type": "code",
      "execution_count": 10,
      "metadata": {},
      "outputs": [
        {
          "name": "stdout",
          "output_type": "stream",
          "text": [
            "BitsNBytes\n",
            "BitsNBytes\n"
          ]
        }
      ],
      "source": [
        "from dataclasses import dataclass\n",
        "from typing import ClassVar\n",
        "\n",
        "@dataclass\n",
        "class Employee:\n",
        "    name: str\n",
        "    salary: float\n",
        "    company_name: ClassVar[str] = \"BitsNBytes\"  # Shared by all instances\n",
        "\n",
        "\n",
        "# Using the Employee class\n",
        "employee1 = Employee(name=\"Mohamed\", salary=50000)\n",
        "employee2 = Employee(name=\"Gamal\", salary=60000)\n",
        "print(employee1.company_name)  # Output: BitsNBytes\n",
        "print(employee2.company_name)  # Output: BitsNBytes"
      ]
    },
    {
      "cell_type": "markdown",
      "metadata": {},
      "source": [
        "#### `field()`\n",
        "\n",
        "- It's a function used to customize individual attributes of a data class.\n",
        "\n",
        "- It allows you to specify *default values*, *set default factories* for complex types, *apply validation*, *make attributes read-only*, and much more."
      ]
    },
    {
      "cell_type": "code",
      "execution_count": 11,
      "metadata": {},
      "outputs": [
        {
          "name": "stdout",
          "output_type": "stream",
          "text": [
            "[90]\n",
            "[]\n"
          ]
        }
      ],
      "source": [
        "# Setting Default Values and Default Factories\n",
        "\n",
        "from dataclasses import dataclass, field\n",
        "\n",
        "@dataclass\n",
        "class Student:\n",
        "    name: str\n",
        "    grades: list = field(default_factory=list)  # Each Student instance gets a new list\n",
        "\n",
        "\n",
        "student1 = Student(name=\"Mohamed\")\n",
        "student2 = Student(name=\"Gamal\")\n",
        "student1.grades.append(90)\n",
        "\n",
        "print(student1.grades)  # Output: [90]\n",
        "print(student2.grades)  # Output: [] (Separate instance)"
      ]
    },
    {
      "cell_type": "code",
      "execution_count": 12,
      "metadata": {},
      "outputs": [
        {
          "name": "stdout",
          "output_type": "stream",
          "text": [
            "Car(make='Toyota', model='Camry')\n"
          ]
        }
      ],
      "source": [
        "# Customizing Field Behavior\n",
        "\n",
        "@dataclass\n",
        "class Car:\n",
        "    make: str\n",
        "    model: str\n",
        "    mileage: int = field(repr=False, compare=False)\n",
        "\n",
        "\n",
        "car1 = Car(make=\"Toyota\", model=\"Camry\", mileage=5000)\n",
        "print(car1)  # Output: Car(make='Toyota', model='Camry') - mileage is hidden"
      ]
    },
    {
      "cell_type": "code",
      "execution_count": 15,
      "metadata": {},
      "outputs": [
        {
          "name": "stdout",
          "output_type": "stream",
          "text": [
            "Book(title='Python 101', author='Mohamed', isbn='123-456789')\n"
          ]
        }
      ],
      "source": [
        "# Read-Only Fields\n",
        "\n",
        "@dataclass\n",
        "class Book:\n",
        "    title: str\n",
        "    author: str\n",
        "    isbn: str = field(init=False)  # Prevents initialization, to be set in __post_init__\n",
        "\n",
        "    def __post_init__(self):\n",
        "        self.isbn = \"123-456789\"  # Some fixed or computed value\n",
        "\n",
        "\n",
        "book = Book(title=\"Python 101\", author=\"Mohamed\")\n",
        "print(book)  # isbn = 123-456789"
      ]
    },
    {
      "cell_type": "code",
      "execution_count": 16,
      "metadata": {},
      "outputs": [
        {
          "name": "stdout",
          "output_type": "stream",
          "text": [
            "{'unit': 'USD'}\n"
          ]
        }
      ],
      "source": [
        "# Metadata\n",
        "\n",
        "@dataclass\n",
        "class Product:\n",
        "    name: str\n",
        "    price: float = field(metadata={\"unit\": \"USD\"})  # Adding metadata\n",
        "\n",
        "\n",
        "product = Product(name=\"Laptop\", price=999.99)\n",
        "print(product.__dataclass_fields__['price'].metadata)  # Output: {'unit': 'USD'}"
      ]
    },
    {
      "cell_type": "code",
      "execution_count": 20,
      "metadata": {},
      "outputs": [
        {
          "name": "stdout",
          "output_type": "stream",
          "text": [
            "Person(name='Mohamed', age=27, id=-4829640187288660373, metadata={})\n",
            "{'unit': 'info'}\n"
          ]
        }
      ],
      "source": [
        "# Example Use of Multiple Options\n",
        "\n",
        "from dataclasses import dataclass, field\n",
        "\n",
        "@dataclass\n",
        "class Person:\n",
        "    name: str\n",
        "    age: int\n",
        "    hobbies: list = field(default_factory=list, repr=False)  # Hide hobbies in repr, new list for each instance\n",
        "    id: int = field(init=False)  # Prevents initialization, to be set in __post_init__\n",
        "    metadata: dict = field(default_factory=dict, metadata={\"unit\": \"info\"})  # Adding metadata\n",
        "\n",
        "    def __post_init__(self):\n",
        "        self.id = hash(self.name + str(self.age))  # Automatically set ID based on other fields\n",
        "\n",
        "\n",
        "person = Person(name=\"Mohamed\", age=27)\n",
        "print(person)  # Hobbies not shown in repr\n",
        "print(person.__dataclass_fields__['metadata'].metadata)  # Output: {'unit': 'info'}"
      ]
    },
    {
      "cell_type": "markdown",
      "metadata": {},
      "source": [
        "----------------------------------------------\n",
        "### 5. `functools.cache` decorator\n",
        "\n",
        "- The `functools.cache` decorator caches results of expensive or frequently-called functions, saving the results of previous calls so they don’t have to be recomputed.\n",
        "- This is especially useful for recursive functions like *Fibonacci*, where many values are recalculated repeatedly."
      ]
    },
    {
      "cell_type": "code",
      "execution_count": 6,
      "metadata": {
        "colab": {
          "base_uri": "https://localhost:8080/"
        },
        "id": "XhNbF7GOtaJl",
        "outputId": "d7faff3e-8c16-4811-fbd8-b3a9062627b7"
      },
      "outputs": [
        {
          "name": "stdout",
          "output_type": "stream",
          "text": [
            "55\n"
          ]
        }
      ],
      "source": [
        "# -----------------------------\n",
        "# --- | functools caching | ---\n",
        "# -----------------------------\n",
        "\n",
        "import functools\n",
        "\n",
        "@functools.cache\n",
        "def fibonacci(n: int) -> int:\n",
        "  if n <= 1:\n",
        "    return n\n",
        "  else:\n",
        "    return fibonacci(n - 1) + fibonacci(n - 2)\n",
        "\n",
        "\n",
        "print(fibonacci(10))"
      ]
    }
  ],
  "metadata": {
    "colab": {
      "provenance": []
    },
    "kernelspec": {
      "display_name": "Python 3",
      "name": "python3"
    },
    "language_info": {
      "codemirror_mode": {
        "name": "ipython",
        "version": 3
      },
      "file_extension": ".py",
      "mimetype": "text/x-python",
      "name": "python",
      "nbconvert_exporter": "python",
      "pygments_lexer": "ipython3",
      "version": "3.12.2"
    }
  },
  "nbformat": 4,
  "nbformat_minor": 0
}
