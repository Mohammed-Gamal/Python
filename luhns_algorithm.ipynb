{
  "cells": [
    {
      "cell_type": "markdown",
      "metadata": {},
      "source": [
        "# Validate Egyptian national ID using [Luhn's algorithm](https://en.wikipedia.org/wiki/Luhn_algorithm).\n",
        "\n",
        "- The [Egyptian national ID](https://en.wikipedia.org/wiki/Egyptian_National_Identity_Card) is a 14-digit number where the last digit is a checksum.\n",
        "- The first 13 digits are used to calculate the checksum using Luhn's algorithm.\n",
        "\n",
        "| x | x | x | x | x | x | x | x | x | x | x | x | x | x |\n",
        "|---|---|---|---|---|---|---|---|---|---|---|---|---|---|\n",
        "\n",
        "- Algorithm:\n",
        "    1. Drop the check digit (last digit) of the number to validate.\n",
        "    2. Reverse the digits.\n",
        "    3. Double every second digit starting from the rightmost digit.\n",
        "    4. Calculate the sum of all digits.\n",
        "    5. Calculate the checksum `(10 - (sum % 10)) % 10`\n",
        "    6. Validate against the original checksum.\n",
        "\n",
        "--------------------------------------\n",
        "\n",
        "**Example:**\n",
        "\n",
        "`national_id = \"30201095501283\"`\n",
        "\n",
        "- The checksum digit (last digit) is 3.\n",
        "- The first 13 digits are `3, 0, 2, 0, 1, 0, 9, 5, 5, 0, 1, 2, 8`.\n",
        "- Reverse the digits: `8, 2, 1, 0, 5, 5, 9, 0, 1, 0, 2, 0, 3`.\n",
        "- Double every second digit: `16, 2, 2, 0, 10, 5, 18, 0, 2, 0, 4, 0, 6`.\n",
        "- Calculate the sum: `1 + 6 + 2 + 2 + 1 + 0 + 5 + 1 + 8 + 0 + 2 + 0 + 4 + 0 + 6 = 38`.\n",
        "- The checksum is `(10 - (38 % 10)) % 10 = 2`.\n",
        "- The calculated checksum is 2, which mismatches the original checksum 3.\n",
        "- Therefore, the Egyptian national ID is *invalid*."
      ]
    },
    {
      "cell_type": "markdown",
      "metadata": {},
      "source": [
        "--------------------------\n",
        "# Code Implementation"
      ]
    },
    {
      "cell_type": "code",
      "execution_count": 1,
      "metadata": {},
      "outputs": [],
      "source": [
        "def validate_egyptian_id(national_id):\n",
        "    # Check if the input is a string and has the correct length\n",
        "    if not national_id.isdigit() or len(national_id) != 14:\n",
        "        return False\n",
        "\n",
        "    # Extract the digits as integers\n",
        "    digits = [int(d) for d in national_id]\n",
        "    \n",
        "    # The last digit is the checksum\n",
        "    checksum_digit = digits.pop()\n",
        "    \n",
        "    # Reverse the digits since we start from the right (avoiding 0-based index problem)\n",
        "    digits.reverse()\n",
        "    \n",
        "    # Apply Luhn's algorithm\n",
        "    for i in range(len(digits)):\n",
        "        if i % 2 == 0:  # Double every second digit\n",
        "            digits[i] *= 2\n",
        "            if digits[i] > 9:  # If result > 9, subtract 9 (same effect as summing digits)\n",
        "                digits[i] -= 9\n",
        "\n",
        "    # Calculate the checksum\n",
        "    calculated_checksum = (10 - (sum(digits) % 10)) % 10\n",
        "\n",
        "    # Validate against the original checksum\n",
        "    return calculated_checksum == checksum_digit"
      ]
    },
    {
      "cell_type": "markdown",
      "metadata": {},
      "source": [
        "#### Example usage"
      ]
    },
    {
      "cell_type": "code",
      "execution_count": 2,
      "metadata": {},
      "outputs": [
        {
          "name": "stdout",
          "output_type": "stream",
          "text": [
            "The Egyptian national ID is invalid.\n"
          ]
        }
      ],
      "source": [
        "national_id = \"30201095501283\"\n",
        "\n",
        "if validate_egyptian_id(national_id):\n",
        "    print(\"The Egyptian national ID is valid.\")\n",
        "else:\n",
        "    print(\"The Egyptian national ID is invalid.\")"
      ]
    }
  ],
  "metadata": {
    "colab": {
      "provenance": []
    },
    "kernelspec": {
      "display_name": "Python 3",
      "name": "python3"
    },
    "language_info": {
      "codemirror_mode": {
        "name": "ipython",
        "version": 3
      },
      "file_extension": ".py",
      "mimetype": "text/x-python",
      "name": "python",
      "nbconvert_exporter": "python",
      "pygments_lexer": "ipython3",
      "version": "3.12.2"
    }
  },
  "nbformat": 4,
  "nbformat_minor": 0
}
